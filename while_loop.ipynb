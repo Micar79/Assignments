{
  "nbformat": 4,
  "nbformat_minor": 0,
  "metadata": {
    "colab": {
      "name": "Untitled10.ipynb",
      "provenance": [],
      "toc_visible": true,
      "authorship_tag": "ABX9TyOQS+UnngBHffznR+hdpsnE",
      "include_colab_link": true
    },
    "kernelspec": {
      "name": "python3",
      "display_name": "Python 3"
    },
    "language_info": {
      "name": "python"
    }
  },
  "cells": [
    {
      "cell_type": "markdown",
      "metadata": {
        "id": "view-in-github",
        "colab_type": "text"
      },
      "source": [
        "<a href=\"https://colab.research.google.com/github/Micar79/Assignments/blob/main/while_loop.ipynb\" target=\"_parent\"><img src=\"https://colab.research.google.com/assets/colab-badge.svg\" alt=\"Open In Colab\"/></a>"
      ]
    },
    {
      "cell_type": "code",
      "execution_count": 37,
      "metadata": {
        "id": "gXfBLEhrq5Hj"
      },
      "outputs": [],
      "source": [
        "def sum_list(a):\n",
        "  import numpy as np\n",
        "  lt=[]\n",
        "  lst=a.copy()\n",
        "  while a and a[0] != a[-1]:\n",
        "    lt.extend([lst,sum(a)])\n",
        "    del a[:]\n",
        "  return tuple(lt)"
      ]
    },
    {
      "cell_type": "code",
      "source": [
        "sum_list([])"
      ],
      "metadata": {
        "colab": {
          "base_uri": "https://localhost:8080/"
        },
        "id": "ffQfVoLCrsfU",
        "outputId": "73f1dd15-4566-495b-91e0-51f8bd4ed3b0"
      },
      "execution_count": 36,
      "outputs": [
        {
          "output_type": "execute_result",
          "data": {
            "text/plain": [
              "()"
            ]
          },
          "metadata": {},
          "execution_count": 36
        }
      ]
    }
  ]
}